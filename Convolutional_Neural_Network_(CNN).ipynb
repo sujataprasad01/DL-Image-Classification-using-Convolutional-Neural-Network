{
  "nbformat": 4,
  "nbformat_minor": 0,
  "metadata": {
    "colab": {
      "provenance": [],
      "authorship_tag": "ABX9TyMdWpu+6Ku0iD4gjC0SaFXC",
      "include_colab_link": true
    },
    "kernelspec": {
      "name": "python3",
      "display_name": "Python 3"
    },
    "language_info": {
      "name": "python"
    }
  },
  "cells": [
    {
      "cell_type": "markdown",
      "metadata": {
        "id": "view-in-github",
        "colab_type": "text"
      },
      "source": [
        "<a href=\"https://colab.research.google.com/github/sujataprasad01/DL-Image-Classification-using-Convolutional-Neural-Network/blob/main/Convolutional_Neural_Network_(CNN).ipynb\" target=\"_parent\"><img src=\"https://colab.research.google.com/assets/colab-badge.svg\" alt=\"Open In Colab\"/></a>"
      ]
    },
    {
      "cell_type": "markdown",
      "source": [
        "# Importing the libraries"
      ],
      "metadata": {
        "id": "wup2cq2E1hvz"
      }
    },
    {
      "cell_type": "code",
      "execution_count": 3,
      "metadata": {
        "id": "410T6d2Mmfd0"
      },
      "outputs": [],
      "source": [
        "import numpy as np\n",
        "import pandas as pd\n",
        "from keras.preprocessing.image import ImageDataGenerator,load_img\n",
        "from keras.utils import to_categorical\n",
        "from sklearn.model_selection import train_test_split\n",
        "import matplotlib.pyplot as plt\n",
        "import random\n",
        "import os"
      ]
    },
    {
      "cell_type": "markdown",
      "source": [
        "# Importing dataset"
      ],
      "metadata": {
        "id": "AOk2uD5C1hyP"
      }
    },
    {
      "cell_type": "code",
      "source": [
        "kaggle.com/c/dogs-vs-cats/data?select=test1.zip"
      ],
      "metadata": {
        "id": "FcGpVHFM1f8c"
      },
      "execution_count": null,
      "outputs": []
    },
    {
      "cell_type": "markdown",
      "source": [
        "# Define image properties\n",
        "\n",
        "* To equalize the size of all the datapoints"
      ],
      "metadata": {
        "id": "blQYVADrYAdI"
      }
    },
    {
      "cell_type": "code",
      "source": [
        "Image_Width=128\n",
        "Image_Height=128\n",
        "Image_Size=(Image_Width,Image_Height)\n",
        "Image_Channels=3   # RGB"
      ],
      "metadata": {
        "id": "3HE8m8ES1f_M"
      },
      "execution_count": 4,
      "outputs": []
    },
    {
      "cell_type": "markdown",
      "source": [
        "# Prepare dataset for training model:"
      ],
      "metadata": {
        "id": "LYp_Ex2PYW-A"
      }
    },
    {
      "cell_type": "code",
      "source": [
        "filenames=os.listdir(\"./dogs-vs-cats/train\")\n",
        "# train =['cat.0.jpg', 'cat.1.jpg', .....]\n",
        "categories=[]\n",
        "for f_name in filenames:\n",
        "    category=f_name.split('.')[0]   # 'cat.0.jpg' -> ['cat', '0', 'jpg'] -> ['cat']\n",
        "    # category='cat'\n",
        "    if category=='dog':\n",
        "        categories.append(1)\n",
        "    else:\n",
        "        categories.append(0)\n",
        "\n",
        "df=pd.DataFrame({\n",
        "    'filename':filenames,\n",
        "    'category':categories\n",
        "})"
      ],
      "metadata": {
        "id": "ZvMPAkrj1gBb"
      },
      "execution_count": null,
      "outputs": []
    },
    {
      "cell_type": "code",
      "source": [],
      "metadata": {
        "id": "vxd7OGhk1gDs"
      },
      "execution_count": null,
      "outputs": []
    },
    {
      "cell_type": "markdown",
      "source": [
        "# New Section"
      ],
      "metadata": {
        "id": "VDRX9IRbYXCw"
      }
    },
    {
      "cell_type": "code",
      "source": [],
      "metadata": {
        "id": "AOEL3eBH1gGT"
      },
      "execution_count": null,
      "outputs": []
    },
    {
      "cell_type": "code",
      "source": [],
      "metadata": {
        "id": "hcXd-IyR1gIv"
      },
      "execution_count": null,
      "outputs": []
    }
  ]
}